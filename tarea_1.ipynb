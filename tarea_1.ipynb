{
 "cells": [
  {
   "cell_type": "markdown",
   "metadata": {},
   "source": [
    "Lo primero que se debe realizar es escoger un libro para luego abrir el archivo y leerlo:\n"
   ]
  },
  {
   "cell_type": "code",
   "execution_count": 1,
   "metadata": {},
   "outputs": [
    {
     "name": "stdout",
     "output_type": "stream",
     "text": [
      "Libro 0 : El_Arbol_De_La_Colina.txt\n",
      "Libro 1 : El_Caos_Reptante.txt\n",
      "Libro 2 : En_El_Mar_Remoto.txt\n",
      "Libro 3 : Lazarillo_de_Tormes.txt\n",
      "Libro 4 : Para_Leer_Al_Atardecer.txt\n",
      "Libro 5 : Una_corta_historia_del_eBook.txt\n"
     ]
    }
   ],
   "source": [
    "import os\n",
    "contenido = os.listdir('Libros')\n",
    "for i, libro in enumerate(contenido):\n",
    "    print(f\"Libro {i} : {libro}\")\n",
    "\n",
    "opcion_libro = input(\"Seleccione el numero del libro que desea analizar: \")\n",
    "nombre_libro = contenido[int(opcion_libro)]\n",
    "\n",
    "with open(f\"Libros/{nombre_libro}\", \"r\", encoding=\"UTF-8\") as Archivo1:\n",
    "    ContenidoArchivo1 = Archivo1.read()"
   ]
  },
  {
   "cell_type": "markdown",
   "metadata": {},
   "source": [
    "Al almacenar el libro en el objeto ContenidoArchivo1, se pueden realizar opearcion para hacer lo solicitado en:  \n",
    "  2. Buscar:\n",
    "- Buscar una palabra completa sin distinción de mayúsculas y minúsculas indicando\n",
    "cuantas veces aparece.\n",
    "- Buscar una palabra completa con distinción de mayúsculas y minúsculas indicando\n",
    "cuantas veces aparece.\n",
    "- Buscar una palabra o substring sin distinción de mayúsculas y minúsculas indicando\n",
    "cuantas veces aparece.\n"
   ]
  },
  {
   "cell_type": "code",
   "execution_count": 8,
   "metadata": {},
   "outputs": [],
   "source": [
    "caracteres_a_eliminar = \",.;\"\n",
    "tabla_de_traduccion = str.maketrans(\"\",\"\", caracteres_a_eliminar)\n",
    "ContenidoArchivo1_sin_caracteres = ContenidoArchivo1.translate(tabla_de_traduccion)"
   ]
  },
  {
   "cell_type": "code",
   "execution_count": 13,
   "metadata": {},
   "outputs": [
    {
     "name": "stdout",
     "output_type": "stream",
     "text": [
      "La palabra completa: el,  sin distinción de mayúsculas y minúsculas aparece: 39\n",
      "La palabra completa: el, con distinción de mayúsculas y minúsculas aparece: 36\n",
      "La palabra o substring: el, sin distinción de mayúsculas y minúsculas: 91\n",
      "La palabra o substring: el, con distinción de mayúsculas y minúsculas: 88\n"
     ]
    }
   ],
   "source": [
    "palabra = input(\"Ingrese la palabra que desea buscar: \")\n",
    "print(f\"La palabra completa: {palabra},  sin distinción de mayúsculas y minúsculas aparece: {ContenidoArchivo1_sin_caracteres.lower().replace(\",\",\"\").split().count(palabra.lower())}\")  \n",
    "print(f\"La palabra completa: {palabra}, con distinción de mayúsculas y minúsculas aparece: {ContenidoArchivo1_sin_caracteres.replace(\",\",\"\").split().count(palabra)}\")  \n",
    "print(f\"La palabra o substring: {palabra}, sin distinción de mayúsculas y minúsculas: {ContenidoArchivo1.lower().count(palabra.lower())}\")        \n",
    "print(f\"La palabra o substring: {palabra}, con distinción de mayúsculas y minúsculas: {(ContenidoArchivo1.count(palabra))}\")\n",
    "\n"
   ]
  }
 ],
 "metadata": {
  "kernelspec": {
   "display_name": "Python 3",
   "language": "python",
   "name": "python3"
  },
  "language_info": {
   "codemirror_mode": {
    "name": "ipython",
    "version": 3
   },
   "file_extension": ".py",
   "mimetype": "text/x-python",
   "name": "python",
   "nbconvert_exporter": "python",
   "pygments_lexer": "ipython3",
   "version": "3.12.2"
  }
 },
 "nbformat": 4,
 "nbformat_minor": 2
}
