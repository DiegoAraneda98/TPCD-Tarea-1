{
 "cells": [
  {
   "cell_type": "markdown",
   "metadata": {},
   "source": [
    "# **Tarea 1**  Taller de Python para Ciencia de Datos \n"
   ]
  },
  {
   "cell_type": "markdown",
   "metadata": {},
   "source": [
    "## Tabla de Contenidos\n",
    "\n",
    "Paso 1: [Lectura de la carpeta con los libros](#0) "
   ]
  },
  {
   "cell_type": "markdown",
   "metadata": {},
   "source": [
    "# Paso 1: Lectura de la carpeta con los libros <a id=\"0\"></a>"
   ]
  },
  {
   "cell_type": "code",
   "execution_count": 8,
   "metadata": {},
   "outputs": [
    {
     "name": "stdout",
     "output_type": "stream",
     "text": [
      "1 El_Arbol_De_La_Colina.txt\n",
      "2 El_Caos_Reptante.txt\n",
      "3 En_El_Mar_Remoto.txt\n",
      "4 Lazarillo_de_Tormes.txt\n",
      "5 Para_Leer_Al_Atardecer.txt\n",
      "6 Una_corta_historia_del_eBook.txt\n"
     ]
    }
   ],
   "source": [
    "import os\n",
    "lista_libros = os.listdir('documentos/Libros')\n",
    "for i in range(len(lista_libros)):\n",
    "    print(i+1,lista_libros[i])\n"
   ]
  }
 ],
 "metadata": {
  "kernelspec": {
   "display_name": "Python 3",
   "language": "python",
   "name": "python3"
  },
  "language_info": {
   "codemirror_mode": {
    "name": "ipython",
    "version": 3
   },
   "file_extension": ".py",
   "mimetype": "text/x-python",
   "name": "python",
   "nbconvert_exporter": "python",
   "pygments_lexer": "ipython3",
   "version": "3.12.1"
  }
 },
 "nbformat": 4,
 "nbformat_minor": 2
}
