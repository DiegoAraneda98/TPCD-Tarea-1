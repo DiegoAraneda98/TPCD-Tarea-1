{
 "cells": [
  {
   "cell_type": "markdown",
   "metadata": {},
   "source": [
    "# **Tarea 1** - Taller de Python para Ciencia de Datos \n"
   ]
  },
  {
   "cell_type": "markdown",
   "metadata": {},
   "source": [
    "## Tabla de Contenidos\n",
    "\n",
    "1. [Lectura de la carpeta con los libros](#0)\n",
    "2. [Elegir libro a analizar](#1)"
   ]
  },
  {
   "cell_type": "markdown",
   "metadata": {},
   "source": [
    "# Paso 1: Lectura de la carpeta con los libros <a id=\"0\"></a>"
   ]
  },
  {
   "cell_type": "markdown",
   "metadata": {},
   "source": [
    "Para poder leer correctamente los libros que se encuentran dentro de la carpeta libros, es necesario ocupar la librería os"
   ]
  },
  {
   "cell_type": "code",
   "execution_count": null,
   "metadata": {},
   "outputs": [],
   "source": [
    "import os\n",
    "\n",
    "lista_libros = os.listdir('documentos/Libros')\n",
    "for i, libro in enumerate(lista_libros):\n",
    "    print(f\"Libro {i+1} : {libro}\")\n"
   ]
  },
  {
   "cell_type": "markdown",
   "metadata": {},
   "source": [
    "# Paso 2: Elegir libro a analizar <a id=\"1\"></a>"
   ]
  },
  {
   "cell_type": "markdown",
   "metadata": {},
   "source": [
    "Se procede a elegir el libro a analizar"
   ]
  },
  {
   "cell_type": "code",
   "execution_count": null,
   "metadata": {},
   "outputs": [],
   "source": [
    "opcion_libro = input(\"Seleccione el numero del libro que desea analizar: \")\n",
    "nombre_libro = lista_libros[int(opcion_libro)]\n",
    "\n",
    "with open(f\"documentos/Libros/{nombre_libro}\", \"r\", encoding=\"UTF-8\") as archivo:\n",
    "    contenido_libro = archivo.read()\n",
    "    \n",
    "\n"
   ]
  },
  {
   "cell_type": "markdown",
   "metadata": {},
   "source": [
    "# Paso 3: Buscar <a id=\"3\"></a>"
   ]
  },
  {
   "cell_type": "code",
   "execution_count": null,
   "metadata": {},
   "outputs": [],
   "source": [
    "palabra = input(\"Ingrese la palabra que desea buscar: \")\n",
    "print(contenido_libro.lower().count(palabra.lower()))        \n",
    "print((contenido_libro.count(palabra)))\n",
    "print(contenido_libro.lower().find(palabra))  \n",
    "print(contenido_libro.find(palabra))  "
   ]
  },
  {
   "cell_type": "markdown",
   "metadata": {},
   "source": [
    "# Paso 4: Reemplazar <a id=\"4\"></a>\n",
    "\n",
    "### Paso 4.1 : \n",
    "Reemplazar una palabra completa sin distinción de mayúsculas y minúsculas guardando los cambios en el archivo."
   ]
  },
  {
   "cell_type": "code",
   "execution_count": 28,
   "metadata": {},
   "outputs": [
    {
     "name": "stdout",
     "output_type": "stream",
     "text": [
      "\n",
      "\n",
      "\n",
      "\n",
      "\n",
      "\n",
      "\n",
      "Hans Christian Andersen\n",
      "\n",
      "En el mar remoto\n",
      "\n",
      "\n",
      "\n",
      "***************\n",
      "\n",
      "\n",
      "\n",
      "Varios grandes barcos habían sido enviados a las regiones del Polo Norte para descubrir los límites más septentrionales entre la tierra y el mar, e investigar hasta dónde podían avanzar los hombres en aquellos parajes. Llevaban ya mucho tiempo abriéndose paso por entre la niebla y los hielos, y sus tripulaciones habían tenido que sufrir muchas penalidades. Ahora había llegado el invierno y desaparecido el sol; durante muchas, muchas semanas, reinó la noche continua; en derredor todo era un único bloque de hielo, en el que los barcos habían quedado aprisionados; la nieve alcanzaba gran altura, y con ella habían construido casas en forma de colmena, algunas grandes como túmulos, y otras, más pequeñas, capaces de albergar solamente de dos a cuatro hombres. Sin embargo, la oscuridad no era completa, pues las auroras boreales enviaban sus resplandores rojos y azules; era como un eterno castillo de fuegos artificiales, y la nieve despedía un tenue brillo; la noche era allí como un largo crepúsculo llameante. En los períodos de mayor claridad se presentaban grupos de indígenas de singularísimo aspecto, con sus hirsutos abrigos de pieles; iban montados en trineos construidos de trozos de hielo, y traían pieles en grandes fardos, gracias a las cuales las casas de nieve pudieron ser provistas de calientes alfombras. Las pieles servían, además, de mantas y almohadas, y con ellas los marineros se arreglaban camas bajo sus cúpulas de nieve, mientras en el exterior arreciaba el frío con una intensidad desconocida incluso en los más rigurosos inviernos nórdicos. En nuestra patria era todavía otoño, y de ello se acordaban aquellos hombres perdidos en tan altas latitudes; pensaban en el sol de su tierra y en el follaje amarillo que colgaba aún de sus árboles. El reloj les dijo que era noche y hora de acostarse, y en una de las chozas de nieve dos hombres se tendieron a descansar. El más joven tenía consigo el mejor y más preciado tesoro de la patria, regalo de su abuela en el momento de su partida: la Biblia. Cada noche se la ponía debajo de la cabeza; ya desde niño sabía lo que en ella estaba escrito. Leía un trozo cada día, y estando en el lecho le venían con gran frecuencia a la memoria aquellas santas palabras de consuelo: «Si tomase yo las alas de la aurora y estuviese en el mar más remoto, Tu mano me guiaría hasta allí, y Tu diestra me sostendría». Y a estas palabras de verdad se cerraban sus ojos y llegaba el sueño, la revelación del espíritu en Dios; el alma estaba viva mientras el cuerpo reposaba; él lo sentía, parecíale como si resonasen viejas y queridas melodías, como si le envolvieran tibias brisas estivales; y desde su lecho veía cómo un gran resplandor se filtraba a través de la nívea cúpula. Levantaba la cabeza, y aquel blanco refulgente no era pared ni techo, sino las grandes alas de un ángel, a cuyo rostro dulce y radiante alzaba los ojos.\n",
      "Como del cáliz de un lirio salía el ángel de las páginas de la Biblia, extendía los brazos, y las paredes de la choza se esfumaban a modo de un sutil y vaporoso manto de niebla: los verdes prados y colinas de la patria, y sus bosques oscuros y rojizos se extendían en derredor, al sol apacible de un bello día de otoño; el nido de la cigüeña estaba vacío, pero colgaban todavía frutos de los manzanos silvestres, aunque habían caído ya las hojas; brillaban los rojos escaramujos, y el estornino silbaba en su pequeña jaula verde, colocada sobre la ventana de la casa de campo, donde tenía él su hogar; el pájaro silbaba como le habían enseñado, y la abuela le ponía mijo en la jaula, según viera hacer siempre al nieto; y la hija del herrero, tan joven y tan linda, sacaba agua del pozo y dirigía un saludo a la abuela, quien le correspondía con un gesto de la cabeza, mostrándole al mismo tiempo una carta llegada de muy lejos. Se había recibido aquella misma mañana; venía de las heladas tierras del polo Norte, donde se encontraba el nieto - en manos de Dios -. Y las dos mujeres reían y lloraban a la vez, y él, que todo lo veía y oía desde aquellos parajes de hielo y nieve, en el mundo del espíritu bajo las alas del ángel, reía con ellas y con ellas lloraba. En la carta se leían aquellas mismas palabras de la Biblia: «En el mar más remoto, su diestra me sostendrá». Sonó en derredor una sublime música, como salida de un coro celeste, mientras el ángel extendía sus alas, a modo de velo, sobre el mozo dormido... Se desvaneció el sueño; en la choza reinaba la oscuridad, pero la Biblia seguía bajo su cabeza, la fe y la esperanza moraban en su corazón, Dios estaba con él, y también la patria, «en el mar remoto».\n",
      "\n",
      "\n",
      "La palabra 'barcos' ha sido reemplazada por 'buques' en el libro 'En_El_Mar_Remoto.txt'.\n",
      "Se han realizado 2 reemplazos de la palabra 'barcos' por 'buques' en el libro 'En_El_Mar_Remoto.txt'.\n",
      "\n",
      "\n",
      "\n",
      "\n",
      "\n",
      "\n",
      "\n",
      "Hans Christian Andersen\n",
      "\n",
      "En el mar remoto\n",
      "\n",
      "\n",
      "\n",
      "***************\n",
      "\n",
      "\n",
      "\n",
      "Varios grandes buques habían sido enviados a las regiones del Polo Norte para descubrir los límites más septentrionales entre la tierra y el mar, e investigar hasta dónde podían avanzar los hombres en aquellos parajes. Llevaban ya mucho tiempo abriéndose paso por entre la niebla y los hielos, y sus tripulaciones habían tenido que sufrir muchas penalidades. Ahora había llegado el invierno y desaparecido el sol; durante muchas, muchas semanas, reinó la noche continua; en derredor todo era un único bloque de hielo, en el que los buques habían quedado aprisionados; la nieve alcanzaba gran altura, y con ella habían construido casas en forma de colmena, algunas grandes como túmulos, y otras, más pequeñas, capaces de albergar solamente de dos a cuatro hombres. Sin embargo, la oscuridad no era completa, pues las auroras boreales enviaban sus resplandores rojos y azules; era como un eterno castillo de fuegos artificiales, y la nieve despedía un tenue brillo; la noche era allí como un largo crepúsculo llameante. En los períodos de mayor claridad se presentaban grupos de indígenas de singularísimo aspecto, con sus hirsutos abrigos de pieles; iban montados en trineos construidos de trozos de hielo, y traían pieles en grandes fardos, gracias a las cuales las casas de nieve pudieron ser provistas de calientes alfombras. Las pieles servían, además, de mantas y almohadas, y con ellas los marineros se arreglaban camas bajo sus cúpulas de nieve, mientras en el exterior arreciaba el frío con una intensidad desconocida incluso en los más rigurosos inviernos nórdicos. En nuestra patria era todavía otoño, y de ello se acordaban aquellos hombres perdidos en tan altas latitudes; pensaban en el sol de su tierra y en el follaje amarillo que colgaba aún de sus árboles. El reloj les dijo que era noche y hora de acostarse, y en una de las chozas de nieve dos hombres se tendieron a descansar. El más joven tenía consigo el mejor y más preciado tesoro de la patria, regalo de su abuela en el momento de su partida: la Biblia. Cada noche se la ponía debajo de la cabeza; ya desde niño sabía lo que en ella estaba escrito. Leía un trozo cada día, y estando en el lecho le venían con gran frecuencia a la memoria aquellas santas palabras de consuelo: «Si tomase yo las alas de la aurora y estuviese en el mar más remoto, Tu mano me guiaría hasta allí, y Tu diestra me sostendría». Y a estas palabras de verdad se cerraban sus ojos y llegaba el sueño, la revelación del espíritu en Dios; el alma estaba viva mientras el cuerpo reposaba; él lo sentía, parecíale como si resonasen viejas y queridas melodías, como si le envolvieran tibias brisas estivales; y desde su lecho veía cómo un gran resplandor se filtraba a través de la nívea cúpula. Levantaba la cabeza, y aquel blanco refulgente no era pared ni techo, sino las grandes alas de un ángel, a cuyo rostro dulce y radiante alzaba los ojos.\n",
      "Como del cáliz de un lirio salía el ángel de las páginas de la Biblia, extendía los brazos, y las paredes de la choza se esfumaban a modo de un sutil y vaporoso manto de niebla: los verdes prados y colinas de la patria, y sus bosques oscuros y rojizos se extendían en derredor, al sol apacible de un bello día de otoño; el nido de la cigüeña estaba vacío, pero colgaban todavía frutos de los manzanos silvestres, aunque habían caído ya las hojas; brillaban los rojos escaramujos, y el estornino silbaba en su pequeña jaula verde, colocada sobre la ventana de la casa de campo, donde tenía él su hogar; el pájaro silbaba como le habían enseñado, y la abuela le ponía mijo en la jaula, según viera hacer siempre al nieto; y la hija del herrero, tan joven y tan linda, sacaba agua del pozo y dirigía un saludo a la abuela, quien le correspondía con un gesto de la cabeza, mostrándole al mismo tiempo una carta llegada de muy lejos. Se había recibido aquella misma mañana; venía de las heladas tierras del polo Norte, donde se encontraba el nieto - en manos de Dios -. Y las dos mujeres reían y lloraban a la vez, y él, que todo lo veía y oía desde aquellos parajes de hielo y nieve, en el mundo del espíritu bajo las alas del ángel, reía con ellas y con ellas lloraba. En la carta se leían aquellas mismas palabras de la Biblia: «En el mar más remoto, su diestra me sostendrá». Sonó en derredor una sublime música, como salida de un coro celeste, mientras el ángel extendía sus alas, a modo de velo, sobre el mozo dormido... Se desvaneció el sueño; en la choza reinaba la oscuridad, pero la Biblia seguía bajo su cabeza, la fe y la esperanza moraban en su corazón, Dios estaba con él, y también la patria, «en el mar remoto».\n",
      "\n",
      "\n"
     ]
    }
   ],
   "source": [
    "\n",
    "print(contenido_libro)\n",
    "\n",
    "palabra_original = input(\"Ingrese la palabra que desea reemplazar: \")\n",
    "palabra_nueva = input(\"Ingrese la palabra de reemplazo: \")\n",
    "\n",
    "contenido_modificado = contenido_libro.replace(palabra_original, palabra_nueva)\n",
    "\n",
    "with open(f\"documentos/Libros/{nombre_libro}\", \"w\", encoding=\"UTF-8\") as archivo_modificado:\n",
    "    archivo_modificado.write(contenido_modificado)\n",
    "\n",
    "print(f\"La palabra '{palabra_original}' ha sido reemplazada por '{palabra_nueva}' en el libro '{nombre_libro}'.\")\n",
    "\n",
    "num_reemplazos = contenido_libro.count(palabra_original)\n",
    "print(f\"Se han realizado {num_reemplazos} reemplazos de la palabra '{palabra_original}' por '{palabra_nueva}' en el libro '{nombre_libro}'.\")\n",
    "\n",
    "print(contenido_modificado)\n"
   ]
  }
 ],
 "metadata": {
  "kernelspec": {
   "display_name": "Python 3",
   "language": "python",
   "name": "python3"
  },
  "language_info": {
   "codemirror_mode": {
    "name": "ipython",
    "version": 3
   },
   "file_extension": ".py",
   "mimetype": "text/x-python",
   "name": "python",
   "nbconvert_exporter": "python",
   "pygments_lexer": "ipython3",
   "version": "3.10.7"
  }
 },
 "nbformat": 4,
 "nbformat_minor": 2
}
