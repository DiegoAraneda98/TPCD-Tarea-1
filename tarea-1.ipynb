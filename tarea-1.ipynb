{
 "cells": [
  {
   "cell_type": "markdown",
   "metadata": {},
   "source": [
    "# **Tarea 1** - Taller de Python para Ciencia de Datos \n"
   ]
  },
  {
   "cell_type": "markdown",
   "metadata": {},
   "source": [
    "## Tabla de Contenidos\n",
    "\n",
    "1. [Importar librerias](#5)\n",
    "2. [Lectura de la carpeta con los libros](#0)\n",
    "3. [Elegir libro a analizar](#1)\n",
    "4. [Estadisticas del libro seleccionado](#2)\n",
    "5. [Buscar palabra seleccionada](#3)\n",
    "6. [Reemplazar palabra seleccionada](#4)"
   ]
  },
  {
   "cell_type": "markdown",
   "metadata": {},
   "source": [
    "# Paso 1: Importar libreria. <a id=\"5\"></a>"
   ]
  },
  {
   "cell_type": "code",
   "execution_count": 4,
   "metadata": {},
   "outputs": [],
   "source": [
    "# Biblioteca estándar que proporciona una forma de interactuar con el sistema operativo en el que se ejecuta el programa.\n",
    "import os"
   ]
  },
  {
   "cell_type": "markdown",
   "metadata": {},
   "source": [
    "# Paso 2: Abrir y mostrar carpeta con los libros <a id=\"0\"></a>"
   ]
  },
  {
   "cell_type": "markdown",
   "metadata": {},
   "source": [
    "Para poder leer correctamente los libros que se encuentran dentro de la carpeta libros, es necesario ocupar la librería os"
   ]
  },
  {
   "cell_type": "code",
   "execution_count": 2,
   "metadata": {},
   "outputs": [
    {
     "name": "stdout",
     "output_type": "stream",
     "text": [
      "Libro 0 : El_Arbol_De_La_Colina.txt\n",
      "Libro 1 : El_Caos_Reptante.txt\n",
      "Libro 2 : En_El_Mar_Remoto.txt\n",
      "Libro 3 : Lazarillo_de_Tormes.txt\n",
      "Libro 4 : Para_Leer_Al_Atardecer.txt\n",
      "Libro 5 : Una_corta_historia_del_eBook.txt\n"
     ]
    }
   ],
   "source": [
    "\n",
    "\n",
    "lista_libros = os.listdir('documentos/Libros')\n",
    "for i, libro in enumerate(lista_libros):\n",
    "    print(f\"Libro {i} : {libro}\")\n"
   ]
  },
  {
   "cell_type": "markdown",
   "metadata": {},
   "source": [
    "# Paso 3: Elegir libro a analizar <a id=\"1\"></a>"
   ]
  },
  {
   "cell_type": "markdown",
   "metadata": {},
   "source": [
    "Elección y lectura del libro a analizar"
   ]
  },
  {
   "cell_type": "code",
   "execution_count": 3,
   "metadata": {},
   "outputs": [],
   "source": [
    "opcion_libro = input(\"Seleccione el numero del libro que desea analizar: \")\n",
    "nombre_libro = lista_libros[int(opcion_libro)]\n",
    "\n",
    "with open(f\"documentos/Libros/{nombre_libro}\", \"r\", encoding=\"UTF-8-sig\") as archivo:\n",
    "    contenido_libro = archivo.read()"
   ]
  },
  {
   "cell_type": "markdown",
   "metadata": {},
   "source": [
    "# Paso 4: Estadisticas del libro elegido <a id=\"2\"></a>"
   ]
  },
  {
   "cell_type": "markdown",
   "metadata": {},
   "source": [
    "## Contar :\n",
    "- Número de palabras en total.\n",
    "- Número de palabras no repetidas.\n",
    "- Número de caracteres con espacio.\n",
    "- Número de caracteres sin espacio.\n",
    "- Número de párrafos (saltos de líneas)\n"
   ]
  },
  {
   "cell_type": "markdown",
   "metadata": {},
   "source": [
    "En este paso se verán las estadisticas del libro seleccionado por el usuario, con estadisticas nos referimos a el número de palabras en total que posee el libro, el número de palabras no repetidas, el número de caracteres con espacio, el número de caracteres sin espacio y por último el número de párrafos (saltos de líneas)."
   ]
  },
  {
   "cell_type": "code",
   "execution_count": 12,
   "metadata": {},
   "outputs": [],
   "source": [
    "caracteres_a_eliminar = \",.;-*<>_#@©/={!¡¿?}\"\n",
    "tabla_de_traduccion = str.maketrans(\"\",\"\", caracteres_a_eliminar)\n",
    "ContenidoArchivo1_sin_caracteres = contenido_libro.translate(tabla_de_traduccion)"
   ]
  },
  {
   "cell_type": "code",
   "execution_count": 14,
   "metadata": {},
   "outputs": [
    {
     "name": "stdout",
     "output_type": "stream",
     "text": [
      "El número total de palabras del libro Una_corta_historia_del_eBook.txt es de 55582\n",
      "\n",
      "El número de palabras no repetidas del libro Una_corta_historia_del_eBook.txt es de 11664\n",
      "\n",
      "El número de caracteres con espacio del libro Una_corta_historia_del_eBook.txt es de 339537\n",
      "\n",
      "El número de caracteres sin espacio del libro Una_corta_historia_del_eBook.txt es de 288938\n",
      "\n",
      "El número de párrafos del libro Una_corta_historia_del_eBook.txt es de 5434\n"
     ]
    }
   ],
   "source": [
    "\n",
    "numero_palabras_total = len(contenido_libro.split())\n",
    "print(f\"El número total de palabras del libro {nombre_libro} es de {numero_palabras_total}\\n\")\n",
    "\n",
    "numero_palabras_no_repetidas = len(set(contenido_libro.split()))\n",
    "print(f\"El número de palabras no repetidas del libro {nombre_libro} es de {numero_palabras_no_repetidas}\\n\")\n",
    "\n",
    "numero_caracteres_con_espacio = len(contenido_libro.replace(\"\\n\",\"\"))\n",
    "print(f\"El número de caracteres con espacio del libro {nombre_libro} es de {numero_caracteres_con_espacio}\\n\")\n",
    "\n",
    "numero_caracteres_sin_espacio = len((contenido_libro.replace(\" \",\"\")).replace(\"\\n\",\"\").replace(\"\\xa0\",\"\"))\n",
    "print(f\"El número de caracteres sin espacio del libro {nombre_libro} es de {numero_caracteres_sin_espacio}\\n\")\n",
    "\n",
    "numero_parrafos = len(contenido_libro.splitlines()) - contenido_libro.splitlines().count(\"\")\n",
    "print(f\"El número de párrafos del libro {nombre_libro} es de {numero_parrafos}\")"
   ]
  },
  {
   "cell_type": "markdown",
   "metadata": {},
   "source": [
    "# Buscar :<a id=\"3\"></a>\n",
    "- Buscar una palabra completa sin distinción de mayúsculas y minúsculas indicando\n",
    " cuantas veces aparece.\n",
    "- Buscar una palabra completa con distinción de mayúsculas y minúsculas indicando\n",
    " cuantas veces aparece.\n",
    "- Buscar una palabra o substring sin distinción de mayúsculas y minúsculas indicando\n",
    " cuantas veces aparece.\n",
    "- Buscar una palabra o substring con distinción de mayúsculas y minúsculas indicando\n",
    " cuantas veces aparece"
   ]
  },
  {
   "cell_type": "markdown",
   "metadata": {},
   "source": [
    "Antes de realizar los dos primeros puntos de buscar, es importante limpiar el texto de ciertos caracteres que pueden interferir en la busqueda:"
   ]
  },
  {
   "cell_type": "code",
   "execution_count": 26,
   "metadata": {},
   "outputs": [],
   "source": [
    "caracteres_a_eliminar = \",.;\"\n",
    "tabla_de_traduccion = str.maketrans(\"\",\"\", caracteres_a_eliminar)\n",
    "ContenidoArchivo1_sin_caracteres = contenido_libro.translate(tabla_de_traduccion)"
   ]
  },
  {
   "cell_type": "markdown",
   "metadata": {},
   "source": [
    "Luego solicitamos la palabra a buscar:"
   ]
  },
  {
   "cell_type": "code",
   "execution_count": 27,
   "metadata": {},
   "outputs": [
    {
     "name": "stdout",
     "output_type": "stream",
     "text": [
      "La palabra completa: mas,  sin distinción de mayúsculas y minúsculas aparece: 0\n",
      "La palabra completa: mas, con distinción de mayúsculas y minúsculas aparece: 0\n",
      "La palabra o substring: mas, sin distinción de mayúsculas y minúsculas: 5\n",
      "La palabra o substring: mas, con distinción de mayúsculas y minúsculas: 5\n"
     ]
    }
   ],
   "source": [
    "palabra = input(\"Ingrese la palabra que desea buscar: \")\n",
    "print(f\"La palabra completa: {palabra},  sin distinción de mayúsculas y minúsculas aparece: {ContenidoArchivo1_sin_caracteres.lower().replace(\",\",\"\").split().count(palabra.lower())}\")  \n",
    "print(f\"La palabra completa: {palabra}, con distinción de mayúsculas y minúsculas aparece: {ContenidoArchivo1_sin_caracteres.replace(\",\",\"\").split().count(palabra)}\")  \n",
    "print(f\"La palabra o substring: {palabra}, sin distinción de mayúsculas y minúsculas: {contenido_libro.lower().count(palabra.lower())}\")        \n",
    "print(f\"La palabra o substring: {palabra}, con distinción de mayúsculas y minúsculas: {(contenido_libro.count(palabra))}\")"
   ]
  },
  {
   "cell_type": "markdown",
   "metadata": {},
   "source": [
    "# Reemplazar palabra seleccionada : <a id=\"4\"></a>\n",
    "\n",
    "- Reemplazar una palabra completa sin distinción de mayúsculas y minúsculas guar\n",
    "dando los cambios en el archivo.\n",
    "- Reemplazar una palabra completa con distinción de mayúsculas y minúsculas guar\n",
    "dando los cambios en el archivo.\n",
    "- Reemplazar una palabra o substring sin distinción de mayúsculas y minúsculas guar\n",
    "dando los cambios en el archivo.\n",
    "- Reemplazar una palabra o substring con distinción de mayúsculas y minúsculas\n",
    " guardando los cambios en el archivo"
   ]
  },
  {
   "cell_type": "code",
   "execution_count": null,
   "metadata": {},
   "outputs": [],
   "source": []
  }
 ],
 "metadata": {
  "kernelspec": {
   "display_name": "Python 3",
   "language": "python",
   "name": "python3"
  },
  "language_info": {
   "codemirror_mode": {
    "name": "ipython",
    "version": 3
   },
   "file_extension": ".py",
   "mimetype": "text/x-python",
   "name": "python",
   "nbconvert_exporter": "python",
   "pygments_lexer": "ipython3",
   "version": "3.12.1"
  }
 },
 "nbformat": 4,
 "nbformat_minor": 2
}
