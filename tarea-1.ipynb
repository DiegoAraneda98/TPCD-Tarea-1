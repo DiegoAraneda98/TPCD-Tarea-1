{
 "cells": [
  {
   "cell_type": "markdown",
   "metadata": {},
   "source": [
    "# **Tarea 1** - Taller de Python para Ciencia de Datos \n"
   ]
  },
  {
   "cell_type": "markdown",
   "metadata": {},
   "source": [
    "## Tabla de Contenidos\n",
    "\n",
    "1. [Lectura de la carpeta con los libros](#0)\n",
    "2. [Elegir libro a analizar](#1)\n",
    "3. [Estadisticas del libro seleccionado](#2)\n",
    "4. [Buscar palabra seleccionada](#3)\n",
    "5. [Reemplazar palabra seleccionada](#4)"
   ]
  },
  {
   "cell_type": "markdown",
   "metadata": {},
   "source": [
    "# Paso 1: Lectura de la carpeta con los libros <a id=\"0\"></a>"
   ]
  },
  {
   "cell_type": "markdown",
   "metadata": {},
   "source": [
    "Para poder leer correctamente los libros que se encuentran dentro de la carpeta libros, es necesario ocupar la librería os"
   ]
  },
  {
   "cell_type": "code",
   "execution_count": null,
   "metadata": {},
   "outputs": [],
   "source": [
    "import os\n",
    "\n",
    "lista_libros = os.listdir('documentos/Libros')\n",
    "for i, libro in enumerate(lista_libros):\n",
    "    print(f\"Libro {i+1} : {libro}\")\n"
   ]
  },
  {
   "cell_type": "markdown",
   "metadata": {},
   "source": [
    "# Paso 2: Elegir libro a analizar <a id=\"1\"></a>"
   ]
  },
  {
   "cell_type": "markdown",
   "metadata": {},
   "source": [
    "Se procede a elegir el libro a analizar"
   ]
  },
  {
   "cell_type": "code",
   "execution_count": null,
   "metadata": {},
   "outputs": [],
   "source": [
    "opcion_libro = input(\"Seleccione el numero del libro que desea analizar: \")\n",
    "nombre_libro = lista_libros[int(opcion_libro)]\n",
    "\n",
    "with open(f\"documentos/Libros/{nombre_libro}\", \"r\", encoding=\"UTF-8\") as archivo:\n",
    "    contenido_libro = archivo.read()"
   ]
  },
  {
   "cell_type": "markdown",
   "metadata": {},
   "source": [
    "# Paso 3: Estadisticas del libro elegido <a id=\"2\"></a>"
   ]
  },
  {
   "cell_type": "markdown",
   "metadata": {},
   "source": [
    "En este paso se verán las estadisticas del libro seleccionado por el usuario, con estadisticas nos referimos a el número de palabras en total que posee el libro, el número de palabras no repetidas, el número de caracteres con espacio, el número de caracteres sin espacio y por último el número de párrafos (saltos de líneas)."
   ]
  },
  {
   "cell_type": "code",
   "execution_count": null,
   "metadata": {},
   "outputs": [],
   "source": [
    "numero_palabras_total = len(contenido_libro.split())\n",
    "print(f\"El número total de palabras del libro {nombre_libro} es de {numero_palabras_total}\\n\")\n",
    "\n",
    "numero_palabras_no_repetidas = len(set(contenido_libro.split()))\n",
    "print(f\"El número de palabras no repetidas del libro {nombre_libro} es de {numero_palabras_no_repetidas}\\n\")\n",
    "\n",
    "numero_caracteres_con_espacio = len(contenido_libro)\n",
    "print(f\"El número de caracteres con espacio del libro {nombre_libro} es de {numero_caracteres_con_espacio}\\n\")\n",
    "\n",
    "numero_caracteres_sin_espacio = len(contenido_libro.replace(\" \",\"\"))\n",
    "\n",
    "print(f\"El número de caracteres sin espacio del libro {nombre_libro} es de {numero_caracteres_sin_espacio}\\n\")\n",
    "\n",
    "numero_parrafos = contenido_libro.count(\"\\n\") + 1\n",
    "print(f\"El número de párrafos del libro {nombre_libro} es de {numero_parrafos}\")\n",
    "\n",
    "numero_parrafos_2 = len(contenido_libro.splitlines()) - contenido_libro.splitlines().count(\"\")\n",
    "print(f\"El número de párrafos del libro {nombre_libro} es de {numero_parrafos_2}\")"
   ]
  },
  {
   "cell_type": "markdown",
   "metadata": {},
   "source": [
    "# Paso 4: Buscar palabra seleccionada<a id=\"3\"></a>"
   ]
  },
  {
   "cell_type": "code",
   "execution_count": null,
   "metadata": {},
   "outputs": [],
   "source": [
    "palabra = input(\"Ingrese la palabra que desea buscar: \")\n",
    "print(contenido_libro.lower().count(palabra.lower()))        \n",
    "print((contenido_libro.count(palabra)))\n",
    "print(contenido_libro.lower().find(palabra))  \n",
    "print(contenido_libro.find(palabra))  "
   ]
  },
  {
   "cell_type": "markdown",
   "metadata": {},
   "source": [
    "# Paso 5: Reemplazar palabra seleccionada <a id=\"4\"></a>\n",
    "\n",
    "### Paso 5.1 : \n",
    "Reemplazar una palabra completa sin distinción de mayúsculas y minúsculas guardando los cambios en el archivo."
   ]
  },
  {
   "cell_type": "code",
   "execution_count": null,
   "metadata": {},
   "outputs": [],
   "source": [
    "\n",
    "print(contenido_libro)\n",
    "\n",
    "palabra_original = input(\"Ingrese la palabra que desea reemplazar: \")\n",
    "palabra_nueva = input(\"Ingrese la palabra de reemplazo: \")\n",
    "\n",
    "contenido_modificado = contenido_libro.replace(palabra_original, palabra_nueva)\n",
    "\n",
    "with open(f\"documentos/Libros/{nombre_libro}\", \"w\", encoding=\"UTF-8\") as archivo_modificado:\n",
    "    archivo_modificado.write(contenido_modificado)\n",
    "\n",
    "print(f\"La palabra '{palabra_original}' ha sido reemplazada por '{palabra_nueva}' en el libro '{nombre_libro}'.\")\n",
    "\n",
    "num_reemplazos = contenido_libro.count(palabra_original)\n",
    "print(f\"Se han realizado {num_reemplazos} reemplazos de la palabra '{palabra_original}' por '{palabra_nueva}' en el libro '{nombre_libro}'.\")\n",
    "\n",
    "print(contenido_modificado)\n"
   ]
  }
 ],
 "metadata": {
  "kernelspec": {
   "display_name": "Python 3",
   "language": "python",
   "name": "python3"
  },
  "language_info": {
   "codemirror_mode": {
    "name": "ipython",
    "version": 3
   },
   "file_extension": ".py",
   "mimetype": "text/x-python",
   "name": "python",
   "nbconvert_exporter": "python",
   "pygments_lexer": "ipython3",
   "version": "0.0.0"
  }
 },
 "nbformat": 4,
 "nbformat_minor": 2
}
