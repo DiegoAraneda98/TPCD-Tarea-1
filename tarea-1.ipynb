{
 "cells": [
  {
   "cell_type": "markdown",
   "metadata": {},
   "source": [
    "# **Tarea 1** - Taller de Python para Ciencia de Datos \n"
   ]
  },
  {
   "cell_type": "markdown",
   "metadata": {},
   "source": [
    "## Tabla de Contenidos\n",
    "\n",
    "1. [Importar librerias](#5)\n",
    "2. [Lectura de la carpeta con los libros](#0)\n",
    "3. [Elegir libro a analizar](#1)\n",
    "4. [Estadisticas del libro seleccionado](#2)\n",
    "5. [Buscar palabra seleccionada](#3)\n",
    "6. [Reemplazar palabra seleccionada](#4)"
   ]
  },
  {
   "cell_type": "markdown",
   "metadata": {},
   "source": [
    "# Paso 1: Importar libreria. <a id=\"5\"></a>"
   ]
  },
  {
   "cell_type": "code",
   "execution_count": 1,
   "metadata": {},
   "outputs": [],
   "source": [
    "# Biblioteca estándar que proporciona una forma de interactuar con el sistema operativo en el que se ejecuta el programa.\n",
    "import os"
   ]
  },
  {
   "cell_type": "markdown",
   "metadata": {},
   "source": [
    "# Paso 2: Abrir y mostrar carpeta con los libros <a id=\"0\"></a>"
   ]
  },
  {
   "cell_type": "markdown",
   "metadata": {},
   "source": [
    "Para poder leer correctamente los libros que se encuentran dentro de la carpeta libros, es necesario ocupar la librería os"
   ]
  },
  {
   "cell_type": "code",
   "execution_count": 2,
   "metadata": {},
   "outputs": [
    {
     "name": "stdout",
     "output_type": "stream",
     "text": [
      "Libro 0 : El_Arbol_De_La_Colina.txt\n",
      "Libro 1 : El_Caos_Reptante.txt\n",
      "Libro 2 : En_El_Mar_Remoto.txt\n",
      "Libro 3 : Lazarillo_de_Tormes.txt\n",
      "Libro 4 : Para_Leer_Al_Atardecer.txt\n",
      "Libro 5 : Una_corta_historia_del_eBook.txt\n"
     ]
    }
   ],
   "source": [
    "lista_libros = os.listdir('documentos/Libros')\n",
    "for i, libro in enumerate(lista_libros):\n",
    "    print(f\"Libro {i} : {libro}\")\n"
   ]
  },
  {
   "cell_type": "markdown",
   "metadata": {},
   "source": [
    "# Paso 3: Elegir libro a analizar <a id=\"1\"></a>"
   ]
  },
  {
   "cell_type": "markdown",
   "metadata": {},
   "source": [
    "Elección y lectura del libro a analizar"
   ]
  },
  {
   "cell_type": "code",
   "execution_count": 3,
   "metadata": {},
   "outputs": [],
   "source": [
    "opcion_libro = input(\"Seleccione el numero del libro que desea analizar: \")\n",
    "nombre_libro = lista_libros[int(opcion_libro)]\n",
    "\n",
    "with open(f\"documentos/Libros/{nombre_libro}\", \"r\", encoding=\"UTF-8-sig\") as archivo:\n",
    "    contenido_libro = archivo.read()"
   ]
  },
  {
   "cell_type": "markdown",
   "metadata": {},
   "source": [
    "# Paso 4: Estadisticas del libro elegido <a id=\"2\"></a>"
   ]
  },
  {
   "cell_type": "markdown",
   "metadata": {},
   "source": [
    "## Contar :\n",
    "- Número de palabras en total.\n",
    "- Número de palabras no repetidas.\n",
    "- Número de caracteres con espacio.\n",
    "- Número de caracteres sin espacio.\n",
    "- Número de párrafos (saltos de líneas)\n"
   ]
  },
  {
   "cell_type": "markdown",
   "metadata": {},
   "source": [
    "En este paso se verán las estadisticas del libro seleccionado por el usuario, con estadisticas nos referimos a distintas acciones que se pueden realizar en el texto, como lo son:\n",
    "\n",
    "- Contar\n",
    "- Buscar\n",
    "- Reemplazar"
   ]
  },
  {
   "cell_type": "markdown",
   "metadata": {},
   "source": [
    "Antes de realizar algunos de los puntos a continuacion, es importante limpiar el texto de ciertos caracteres que pueden interferir en ciertos procesos:"
   ]
  },
  {
   "cell_type": "code",
   "execution_count": 6,
   "metadata": {},
   "outputs": [],
   "source": [
    "caracteres_a_eliminar = \",.;-*<>_#@©/={!¡¿?}\"\n",
    "tabla_de_traduccion = str.maketrans(\"\",\"\", caracteres_a_eliminar)\n",
    "ContenidoArchivo1_sin_caracteres = contenido_libro.translate(tabla_de_traduccion)"
   ]
  },
  {
   "cell_type": "code",
   "execution_count": null,
   "metadata": {},
   "outputs": [],
   "source": [
    "\n",
    "numero_palabras_total = len(contenido_libro.split())\n",
    "print(f\"El número total de palabras del libro {nombre_libro} es de {numero_palabras_total}\\n\")\n",
    "\n",
    "numero_palabras_no_repetidas = len(set(contenido_libro.split()))\n",
    "print(f\"El número de palabras no repetidas del libro {nombre_libro} es de {numero_palabras_no_repetidas}\\n\")\n",
    "\n",
    "numero_caracteres_con_espacio = len(contenido_libro.replace(\"\\n\",\"\"))\n",
    "print(f\"El número de caracteres con espacio del libro {nombre_libro} es de {numero_caracteres_con_espacio}\\n\")\n",
    "\n",
    "numero_caracteres_sin_espacio = len((contenido_libro.replace(\" \",\"\")).replace(\"\\n\",\"\").replace(\"\\xa0\",\"\"))\n",
    "print(f\"El número de caracteres sin espacio del libro {nombre_libro} es de {numero_caracteres_sin_espacio}\\n\")\n",
    "\n",
    "numero_parrafos = len(contenido_libro.splitlines()) - contenido_libro.splitlines().count(\"\")\n",
    "print(f\"El número de párrafos del libro {nombre_libro} es de {numero_parrafos}\")"
   ]
  },
  {
   "cell_type": "markdown",
   "metadata": {},
   "source": [
    "# Buscar :<a id=\"3\"></a>\n",
    "- Buscar una palabra completa sin distinción de mayúsculas y minúsculas indicando\n",
    " cuantas veces aparece.\n",
    "- Buscar una palabra completa con distinción de mayúsculas y minúsculas indicando\n",
    " cuantas veces aparece.\n",
    "- Buscar una palabra o substring sin distinción de mayúsculas y minúsculas indicando\n",
    " cuantas veces aparece.\n",
    "- Buscar una palabra o substring con distinción de mayúsculas y minúsculas indicando\n",
    " cuantas veces aparece"
   ]
  },
  {
   "cell_type": "markdown",
   "metadata": {},
   "source": [
    "Luego solicitamos la palabra a buscar:"
   ]
  },
  {
   "cell_type": "code",
   "execution_count": null,
   "metadata": {},
   "outputs": [],
   "source": [
    "palabra = input(\"Ingrese la palabra que desea buscar: \")\n",
    "print(f\"La palabra completa: {palabra},  sin distinción de mayúsculas y minúsculas aparece: {ContenidoArchivo1_sin_caracteres.lower().replace(\",\",\"\").split().count(palabra.lower())}\")  \n",
    "print(f\"La palabra completa: {palabra}, con distinción de mayúsculas y minúsculas aparece: {ContenidoArchivo1_sin_caracteres.replace(\",\",\"\").split().count(palabra)}\")  \n",
    "print(f\"La palabra o substring: {palabra}, sin distinción de mayúsculas y minúsculas: {contenido_libro.lower().count(palabra.lower())}\")        \n",
    "print(f\"La palabra o substring: {palabra}, con distinción de mayúsculas y minúsculas: {(contenido_libro.count(palabra))}\")"
   ]
  },
  {
   "cell_type": "markdown",
   "metadata": {},
   "source": [
    "# Reemplazar palabra seleccionada : <a id=\"4\"></a>\n",
    "\n",
    "- Reemplazar una palabra completa sin distinción de mayúsculas y minúsculas guar\n",
    "dando los cambios en el archivo.\n",
    "- Reemplazar una palabra completa con distinción de mayúsculas y minúsculas guar\n",
    "dando los cambios en el archivo.\n",
    "- Reemplazar una palabra o substring sin distinción de mayúsculas y minúsculas guar\n",
    "dando los cambios en el archivo.\n",
    "- Reemplazar una palabra o substring con distinción de mayúsculas y minúsculas\n",
    " guardando los cambios en el archivo\n",
    "\n",
    "Para realizar el reemplazo se creo una funcion llamada **texto_reemplazar()** que efectua los siguientes pasos:\n",
    "\n",
    "1. La funcion texto_reemplazar tiene como entrada un string con el contenido del texto que se desea analizar.\n",
    "2. Luego se solicita al usuario escribir la palabra que quiere reemplazar y luego la palabra nueva. Luego se le pide si quiere hacer distincion de mayusculas y minusculas y si es palabra completa o substring\n",
    "3. Luego se hace una transformacion del texto en caso de no distinguir mayusculas para una mejor busqueda.\n",
    "4. Ahora para la busqueda se hace uso del comando find junto con la variable indice_busqueda para ir iterando sobre todas la palabras.\n",
    "5. Luego busca la primera palabra que encuentre a partir del indice y almacena los indices del inicio y final de la palabra en el string.\n",
    "6. Luego para hacer el reemplazo primero se verifica si tiene que ser palabra completa o substring\n",
    "7. Si es substring entonces simplemente crea un nuevo string usando el texto antes de la palabra, la palabra nueva, y el texto despues de la palabra\n",
    "8. Si tiene que ser completa entonces verifica que los caracteres antes y despues de la palabra no sean letras, si lo son actualiza el indice de busqueda\n",
    "9. En caso de no serlos, efectua el paso 7\n",
    "10. Luego actualiza el texto transformado sin distincion y al terminar el bucle while, retorna el nuevo contenido como string"
   ]
  },
  {
   "cell_type": "code",
   "execution_count": 8,
   "metadata": {},
   "outputs": [],
   "source": [
    "# Funcion para reemplazar palabras, retorna el contenido_libro reemplazado\n",
    "def texto_reemplazar(contenido_cambiar: str) -> str:\n",
    "    abecedario = ['a', 'b', 'c', 'd', 'e', 'f', 'g', 'h', 'i', 'j', 'k', 'l', 'm', 'n', 'o', 'p', 'q', 'r', 's', 't', 'u', 'v', 'w', 'x', 'y', 'z','á','é','í','ó','ú']\n",
    "\n",
    "    # Solicitar palabras y opciones de reemplazo\n",
    "    palabra_reemplazada = input(\"Escribir palabra que quiere reemplazar: \")\n",
    "    palabra_nueva = input(\"Escribir palabra nueva: \")\n",
    "\n",
    "    distincion = input(\"¿Distincion de mayusculas y minusculas? (si/no): \")\n",
    "    completa = input(\"¿Reemplazar palabra completa? (si/no): \")\n",
    "\n",
    "    # Transformar texto para trabajar con minusculas\n",
    "    contenido_sin_distincion = contenido_cambiar\n",
    "    if distincion.lower() == \"no\":\n",
    "        contenido_sin_distincion = contenido_sin_distincion.lower()\n",
    "        palabra_reemplazada = palabra_reemplazada.lower()\n",
    "\n",
    "    indice_busqueda = 0\n",
    "    while(contenido_sin_distincion.find(palabra_reemplazada, indice_busqueda) != -1):\n",
    "        inicio_palabra = contenido_sin_distincion.find(palabra_reemplazada, indice_busqueda)\n",
    "        fin_palabra = contenido_sin_distincion.find(palabra_reemplazada, indice_busqueda) + len(palabra_reemplazada) - 1\n",
    "\n",
    "        if completa.lower() == \"si\":\n",
    "            if contenido_cambiar[inicio_palabra - 1].lower() not in abecedario and contenido_cambiar[fin_palabra + 1].lower() not in abecedario:\n",
    "                contenido_cambiar = contenido_cambiar[:inicio_palabra] + palabra_nueva + contenido_cambiar[fin_palabra + 1:]\n",
    "            else:\n",
    "                indice_busqueda = fin_palabra + 1\n",
    "        else:\n",
    "            contenido_cambiar = contenido_cambiar[:inicio_palabra] + palabra_nueva + contenido_cambiar[fin_palabra + 1:]\n",
    "        \n",
    "        contenido_sin_distincion = contenido_cambiar.lower()\n",
    "    \n",
    "    return contenido_cambiar"
   ]
  },
  {
   "cell_type": "markdown",
   "metadata": {},
   "source": [
    "Finalmente, se hace llamado de esa función junto con el contenido del libro en formato string y se escribe en un nuevo archivo con el mismo nombre en la carpeta **salida** del directorio raiz del archivo python."
   ]
  },
  {
   "cell_type": "code",
   "execution_count": 15,
   "metadata": {},
   "outputs": [],
   "source": [
    "# Escribir texto con palabras reemplazadas en un nuevo archivo en la carpeta salida dentro del directorio raiz del archivo .ipynb\n",
    "with open(f'salida/{nombre_libro}', 'w', encoding=\"UTF-8\") as ArchivoNuevo:\n",
    "    ArchivoNuevo.write(texto_reemplazar(contenido_libro))"
   ]
  }
 ],
 "metadata": {
  "kernelspec": {
   "display_name": "Python 3",
   "language": "python",
   "name": "python3"
  },
  "language_info": {
   "codemirror_mode": {
    "name": "ipython",
    "version": 3
   },
   "file_extension": ".py",
   "mimetype": "text/x-python",
   "name": "python",
   "nbconvert_exporter": "python",
   "pygments_lexer": "ipython3",
   "version": "3.10.7"
  }
 },
 "nbformat": 4,
 "nbformat_minor": 2
}
